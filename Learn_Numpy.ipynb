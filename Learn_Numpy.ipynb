{
  "nbformat": 4,
  "nbformat_minor": 0,
  "metadata": {
    "colab": {
      "provenance": []
    },
    "kernelspec": {
      "name": "python3",
      "display_name": "Python 3"
    },
    "language_info": {
      "name": "python"
    }
  },
  "cells": [
    {
      "cell_type": "code",
      "execution_count": null,
      "metadata": {
        "colab": {
          "base_uri": "https://localhost:8080/"
        },
        "id": "-Mg06FjcMvO1",
        "outputId": "9f390c18-3b85-4875-981d-e38ef08ebaea"
      },
      "outputs": [
        {
          "output_type": "stream",
          "name": "stdout",
          "text": [
            "[1 4 9]\n"
          ]
        }
      ],
      "source": [
        "import numpy as np\n",
        "\n",
        "a=np.array([1,2,3])\n",
        "b=np.array([1,2,3])\n",
        "print(a*b)"
      ]
    },
    {
      "cell_type": "markdown",
      "source": [
        "numpy :\n",
        "1.Faster than list\n",
        "2.less storage memory\n",
        "3.no type checking while iterating\n",
        "4.contiguous memory\n",
        "SIMD-single instruction multiple data\n",
        "SIMD VECTOR PROCESSING(memory next to each other)eg:addition\n",
        "effective cache utilization\n",
        "5.Application:\n",
        "matlab replacemant\n",
        "matplotlib\n",
        "backend(pandas,connect 4 , photography)\n",
        "ml"
      ],
      "metadata": {
        "id": "o7-2wvcOOin9"
      }
    },
    {
      "cell_type": "code",
      "source": [
        "#basics\n",
        "import numpy as np\n",
        "\n",
        "a=np.array([[1,2,3],[9,8,7]],dtype='int16')\n",
        "print(a.ndim)#no of dimension\n",
        "print(a.shape)#shape(list,elements)\n",
        "print(a.dtype)#data type\n",
        "print(a.itemsize)#no of bytes\n",
        "print(a.size)#total size-no of elements\n",
        "print(a.size*a.itemsize)#total print(a.nbytes)\n",
        "\n",
        "print(np.zeros(2))"
      ],
      "metadata": {
        "colab": {
          "base_uri": "https://localhost:8080/"
        },
        "id": "wTaPiof1S-XW",
        "outputId": "14b3acee-7a22-4729-c124-5585eadba049"
      },
      "execution_count": null,
      "outputs": [
        {
          "output_type": "stream",
          "name": "stdout",
          "text": [
            "2\n",
            "(2, 3)\n",
            "int16\n",
            "2\n",
            "6\n",
            "12\n",
            "[0. 0.]\n"
          ]
        }
      ]
    },
    {
      "cell_type": "code",
      "source": [
        "import numpy as np\n",
        "\n",
        "a=np.array([[1,2,3,4,5],[5,6,7,8,9],[1,9,2,8,3]])\n",
        "print(a)\n",
        "print(a[0,2])\n",
        "print(a[2,4])\n",
        "print(a[1,:])#row\n",
        "print(a[:,1])#colunm\n",
        "print(a[2,0::2])#start-stop-step"
      ],
      "metadata": {
        "colab": {
          "base_uri": "https://localhost:8080/"
        },
        "id": "CAFBvTeecJYl",
        "outputId": "d82942a7-d81f-4840-9239-733124d39601"
      },
      "execution_count": null,
      "outputs": [
        {
          "output_type": "stream",
          "name": "stdout",
          "text": [
            "[[1 2 3 4 5]\n",
            " [5 6 7 8 9]\n",
            " [1 9 2 8 3]]\n",
            "3\n",
            "3\n",
            "[5 6 7 8 9]\n",
            "[2 6 9]\n",
            "[1 2 3]\n"
          ]
        }
      ]
    },
    {
      "cell_type": "markdown",
      "source": [
        "zeros()\n",
        "ones()\n",
        "full()\n",
        "full_like()\n",
        "np.random.ram()"
      ],
      "metadata": {
        "id": "zKO68Xrmek8i"
      }
    },
    {
      "cell_type": "code",
      "source": [
        "import numpy as np\n",
        "\n",
        "a=np.array([[1,2,3,4,5],[5,6,7,8,9],[1,9,2,8,3]])\n",
        "print(a)\n",
        "b=np.zeros((2,3))\n",
        "print(b)\n",
        "c=np.ones((3,5))\n",
        "print(c)\n",
        "d=np.full((3,5),13)\n",
        "print(d)\n",
        "e=np.full_like(a,6)\n",
        "print(e)\n",
        "f=np.random.rand(3,4)\n",
        "print(f)\n",
        "g=np.random.randint(7,size=(2,2))\n",
        "print(g)"
      ],
      "metadata": {
        "colab": {
          "base_uri": "https://localhost:8080/"
        },
        "id": "EqSqF2OLexXv",
        "outputId": "17ebac51-570b-4ba5-dbd4-dd6fb2e72716"
      },
      "execution_count": null,
      "outputs": [
        {
          "output_type": "stream",
          "name": "stdout",
          "text": [
            "[[1 2 3 4 5]\n",
            " [5 6 7 8 9]\n",
            " [1 9 2 8 3]]\n",
            "[[0. 0. 0.]\n",
            " [0. 0. 0.]]\n",
            "[[1. 1. 1. 1. 1.]\n",
            " [1. 1. 1. 1. 1.]\n",
            " [1. 1. 1. 1. 1.]]\n",
            "[[13 13 13 13 13]\n",
            " [13 13 13 13 13]\n",
            " [13 13 13 13 13]]\n",
            "[[6 6 6 6 6]\n",
            " [6 6 6 6 6]\n",
            " [6 6 6 6 6]]\n",
            "[[0.69791353 0.90835605 0.03633203 0.37162749]\n",
            " [0.75684479 0.1473078  0.74162438 0.89134578]\n",
            " [0.59664713 0.62299588 0.40879177 0.29201312]]\n",
            "[[4 3]\n",
            " [4 5]]\n"
          ]
        }
      ]
    }
  ]
}