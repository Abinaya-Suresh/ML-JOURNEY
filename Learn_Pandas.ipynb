{
  "nbformat": 4,
  "nbformat_minor": 0,
  "metadata": {
    "colab": {
      "provenance": []
    },
    "kernelspec": {
      "name": "python3",
      "display_name": "Python 3"
    },
    "language_info": {
      "name": "python"
    }
  },
  "cells": [
    {
      "cell_type": "markdown",
      "source": [
        "\n",
        "\n",
        "1. **Data Reading and Writing**:\n",
        "   - `read_csv()`: Read a CSV file into a DataFrame.\n",
        "   - `read_excel()`: Read an Excel file into a DataFrame.\n",
        "   - `read_sql()`: Read SQL query or database table into a DataFrame.\n",
        "   - `to_csv()`: Write DataFrame to a CSV file.\n",
        "   - `to_excel()`: Write DataFrame to an Excel file.\n",
        "   - `to_sql()`: Write DataFrame to a SQL database.\n",
        "\n",
        "2. **Data Exploration**:\n",
        "\n",
        "   - `head()`: Display the first n rows of the DataFrame.\n",
        "   - `tail()`: Display the last n rows of the DataFrame.\n",
        "   - `info()`: Display concise summary of DataFrame.\n",
        "   - `describe()`: Generate descriptive statistics of DataFrame.\n",
        "   - `shape`: Get the dimensions of the DataFrame.\n",
        "\n",
        "3. **Data Manipulation**:\n",
        "   - `rename()`: Rename columns of DataFrame.\n",
        "   - `drop()`: Drop specified labels from rows or columns.\n",
        "   - `fillna()`: Fill NA/NaN values with a specified value.\n",
        "   - `drop_duplicates()`: Remove duplicate rows from the DataFrame.\n",
        "   - `sort_values()`: Sort DataFrame by one or more columns.\n",
        "   - `groupby()`: Group DataFrame using a mapper or by a Series of columns.\n",
        "   - `merge()`: Merge DataFrame or named Series objects with a database-style join.\n",
        "\n",
        "4. **Data Selection and Indexing**:\n",
        "   - `loc[]`: Access a group of rows and columns by labels.\n",
        "   - `iloc[]`: Access a group of rows and columns by integer position.\n",
        "   - `at[]`: Access a single value for a row/column label pair.\n",
        "   - `iat[]`: Access a single value for a row/column pair by integer position.\n",
        "\n",
        "5. **Data Aggregation**:\n",
        "   - `mean()`: Compute mean of groups.\n",
        "   - `sum()`: Compute sum of group values.\n",
        "   - `min()`: Compute min of group values.\n",
        "   - `max()`: Compute max of group values.\n",
        "   - `count()`: Compute count of group.\n",
        "\n",
        "6. **Data Visualization**:\n",
        "   - `plot()`: Plot data.\n",
        "   - `hist()`: Draw histogram of DataFrame's column.\n",
        "   - `boxplot()`: Make a box plot from DataFrame columns.\n",
        "   - `scatter()`: Make a scatter plot of DataFrame columns.\n",
        "\n",
        "7. **Data Cleaning**:\n",
        "   - `dropna()`: Remove missing values.\n",
        "   - `fillna()`: Replace missing values with specified value.\n",
        "   - `replace()`: Replace values in DataFrame.\n"
      ],
      "metadata": {
        "id": "hYkQJrSabT7v"
      }
    },
    {
      "cell_type": "markdown",
      "source": [
        "\n",
        "\n",
        "1. `str`: This accessor allows you to perform various string operations on each element of a pandas Series (DataFrame column).\n",
        "\n",
        "2. `str.upper()`: Converts all characters in the string to uppercase.\n",
        "\n",
        "3. `str.lower()`: Converts all characters in the string to lowercase.\n",
        "\n",
        "4. `str.title()`: Converts the first character of each word to uppercase and the rest to lowercase.\n",
        "\n",
        "5. `str.strip()`: Removes leading and trailing whitespace.\n",
        "\n",
        "6. `str.replace()`: Replaces a specified substring with another substring.\n",
        "\n",
        "7. `str.contains()`: Checks whether each string contains a specified substring.\n",
        "\n",
        "8. `str.startswith()`: Checks whether each string starts with a specified substring.\n",
        "\n",
        "9. `str.endswith()`: Checks whether each string ends with a specified substring.\n",
        "\n",
        "10. `str.split()`: Splits the string into substrings based on a specified delimiter.\n",
        "\n",
        "11. `str.join()`: Joins elements of a list together with a specified delimiter to form a string.\n",
        "\n",
        "12. `str.cat()`: Concatenates strings in a Series with a specified separator.\n",
        "\n"
      ],
      "metadata": {
        "id": "clYpP5kiCxq7"
      }
    },
    {
      "cell_type": "code",
      "execution_count": null,
      "metadata": {
        "id": "vqfLnvdsZWA9"
      },
      "outputs": [],
      "source": [
        "import pandas as pd\n",
        "\n",
        "df=pd.read_csv(\"laptopData.csv\")\n",
        "#print(df.head(10))\n",
        "#print(df.columns)\n",
        "#df=df['Company'][5:11]\n",
        "#print(df)\n",
        "#print(df.iloc[5:11])\n"
      ]
    },
    {
      "cell_type": "code",
      "source": [
        "new_df=df.loc[(df['Type_1']==\"good\") & (df.['Type_2'==\"bad\"])]\n",
        "print(new_df)\n",
        "new_df.to_csv(\"file.csv\")\n",
        "new_df.reset_index()\n",
        "new_df.reset_index(drop=True)\n",
        "new_df.reset_index(drop=True , inplace=True)"
      ],
      "metadata": {
        "id": "1p1W7rV_aGnn"
      },
      "execution_count": null,
      "outputs": []
    },
    {
      "cell_type": "code",
      "source": [
        "import pandas as pd\n",
        "import matplotlib.pyplot as plt\n",
        "\n",
        "\n",
        "df=pd.read_csv(\"laptopData.csv\")\n",
        "#for index,row in df.iterrows():\n",
        "  #print(index,row['Ram'])\n",
        "#df.loc[df['Ram'] == \"rom\"]\n",
        "#df['Ram'][0:5]\n",
        "#print(df.describe())\n",
        "#df.sort_values('Ram',ascending=False)[0:10]\n",
        "#adding can be done only with same datatypes\n",
        "#df=df.drop(columns=['Ram'])\n",
        "#df.head(5)\n",
        "#df['Total']=df.iloc[:,0:11].sum(axis=1)\n",
        "#df.plot(kind='scatter', x='Price', y='Inches')\n",
        "#df.show()\n",
        "\n",
        "\n",
        "\n",
        "\n"
      ],
      "metadata": {
        "id": "Of8Looyobvsd"
      },
      "execution_count": null,
      "outputs": []
    },
    {
      "cell_type": "code",
      "source": [
        "df['Price'] = df['Price'].astype(float)\n",
        "df['Inches'] = df['Inches'].astype(float)\n",
        "df.plot(kind='scatter', x='Price', y='Inches')\n",
        "This assigns the calculated sum to a new column named \"Price\" in the DataFrame df.......df['Total']=df.iloc[:,0:11].sum(axis=1)\n",
        "df.plot(kind='scatter', x='Price', y='Inches')//scatter\n",
        "df.plot(kind='hist', x='Price', y='Inches')//histogram"
      ],
      "metadata": {
        "id": "7kMYxN9FHVji"
      },
      "execution_count": null,
      "outputs": []
    },
    {
      "cell_type": "code",
      "source": [
        "df.loc[df['Name'].str.contains('Abi')]\n",
        "\n",
        "import re\n",
        "\n",
        "df.loc[df.['name'].str.contains('Abi' , regex=True)]\n",
        "df.loc[df.['name'].str.contains('Abi|Libi', flags=re.I ,regex=True)]  #I=ingnorecase\n",
        "df.loc[df.['name'].str.contains('ab[a-z]*' , flags=re.I ,regex=True)]\n",
        "df.loc[df.['name'].str.contains('^ab[a-z]*' , flags=re.I ,regex=True)]#if we get at middle or smwr\n",
        "#df.loc[!df.['name'].str.contains('ab[a-z]*' , flags=re.I ,regex=True)]error\n",
        "df.loc[~df.['name'].str.contains('ab[a-z]*' , flags=re.I ,regex=True)]"
      ],
      "metadata": {
        "id": "IDo1P5kNcypN"
      },
      "execution_count": null,
      "outputs": []
    },
    {
      "cell_type": "code",
      "source": [
        "df.loc[df['Name']=='Abi','Name']='libi'\n",
        "df.loc[df['Name']=='Abi','Class']=True\n",
        "#dataframe.locate[df['total']>100 ,[semi_total,final_total]]=['good','verygood']\n",
        "#_________________________Verify____AssignTo___________________AssignThe___conditionIsTrue____________________________\n"
      ],
      "metadata": {
        "id": "oOD-zPgQe0J0"
      },
      "execution_count": null,
      "outputs": []
    },
    {
      "cell_type": "code",
      "source": [
        "df=pd.read_csv(\"File.csv\")\n",
        "df.groupby(['Type'].mean().sort_values('Name' , ascending=False))\n",
        "df.groupby(['Type']).sum()\n",
        "df.groupby(['Type']).count()\n",
        "#suppose every vales are same ,then we want to declare\n",
        "df['count']=1\n",
        "df.groupby(['Type']).count()['count']\n",
        "df.groupby(['Type1','Type2']).count()['count']"
      ],
      "metadata": {
        "id": "NRf3F1cohLYc"
      },
      "execution_count": null,
      "outputs": []
    },
    {
      "cell_type": "code",
      "source": [
        "new_df=pd.DataFrame(columns=df.columns)\n",
        "for df in pd.read_csv(\"Filename.csv\",chunksize=5):\n",
        "  result=pd.groupby(['Type']).count()\n",
        "  new_df=pd.concat([new_df,result])"
      ],
      "metadata": {
        "id": "UisWL6cpj3vd"
      },
      "execution_count": null,
      "outputs": []
    }
  ]
}